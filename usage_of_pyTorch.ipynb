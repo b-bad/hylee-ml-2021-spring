{
  "nbformat": 4,
  "nbformat_minor": 0,
  "metadata": {
    "colab": {
      "name": "usage_of_pyTorch.ipynb",
      "provenance": [],
      "collapsed_sections": [],
      "authorship_tag": "ABX9TyP3AMDrTKSsNnwDVCiUuecF",
      "include_colab_link": true
    },
    "kernelspec": {
      "name": "python3",
      "display_name": "Python 3"
    },
    "language_info": {
      "name": "python"
    },
    "accelerator": "GPU"
  },
  "cells": [
    {
      "cell_type": "markdown",
      "metadata": {
        "id": "view-in-github",
        "colab_type": "text"
      },
      "source": [
        "<a href=\"https://colab.research.google.com/github/yeahtigerr/hylee-ml-2021-spring/blob/main/usage_of_pyTorch.ipynb\" target=\"_parent\"><img src=\"https://colab.research.google.com/assets/colab-badge.svg\" alt=\"Open In Colab\"/></a>"
      ]
    },
    {
      "cell_type": "code",
      "metadata": {
        "id": "CLkg7gAZElQ8"
      },
      "source": [
        "import torch\n",
        "import numpy as np"
      ],
      "execution_count": 2,
      "outputs": []
    },
    {
      "cell_type": "markdown",
      "metadata": {
        "id": "DjS0V1ZsBode"
      },
      "source": [
        "生成tensor："
      ]
    },
    {
      "cell_type": "code",
      "metadata": {
        "colab": {
          "base_uri": "https://localhost:8080/"
        },
        "id": "iaXk7_iC_MtL",
        "outputId": "4166b0c8-ffa5-455e-df46-deb4bb00ca62"
      },
      "source": [
        "x = torch.tensor([[1, 2], [3, 4]])\n",
        "y = torch.from_numpy(np.array([[1, 2], [3, 4]]))\n",
        "z1 = torch.zeros([2, 2])\n",
        "z2 = torch.zeros_like(x)  # 生成元素全部为0的张量，形状与输入参数（另一个张量）相同\n",
        "x, y, z1, z2"
      ],
      "execution_count": null,
      "outputs": [
        {
          "output_type": "execute_result",
          "data": {
            "text/plain": [
              "(tensor([[1, 2],\n",
              "         [3, 4]]), tensor([[1, 2],\n",
              "         [3, 4]]), tensor([[0., 0.],\n",
              "         [0., 0.]]), tensor([[0, 0],\n",
              "         [0, 0]]))"
            ]
          },
          "metadata": {},
          "execution_count": 2
        }
      ]
    },
    {
      "cell_type": "markdown",
      "metadata": {
        "id": "I24YPedRFBNZ"
      },
      "source": [
        "torch.squeeze  将输入张量维度值为1的维度压缩\n",
        "torch.unsqueeze 在输入张量参数维度处增添一个维度为1的维度"
      ]
    },
    {
      "cell_type": "code",
      "metadata": {
        "id": "wRTWaXwzCjjN",
        "colab": {
          "base_uri": "https://localhost:8080/"
        },
        "outputId": "c354b663-ee9c-4144-ea1f-f9b19e5c78b2"
      },
      "source": [
        "x = torch.zeros([1, 2, 2, 3])\n",
        "y = x.squeeze(0)\n",
        "z = x.unsqueeze(1)\n",
        "x.shape, y.shape, z.shape"
      ],
      "execution_count": null,
      "outputs": [
        {
          "output_type": "execute_result",
          "data": {
            "text/plain": [
              "(torch.Size([1, 2, 2, 3]), torch.Size([2, 2, 3]), torch.Size([1, 1, 2, 2, 3]))"
            ]
          },
          "metadata": {},
          "execution_count": 3
        }
      ]
    },
    {
      "cell_type": "markdown",
      "metadata": {
        "id": "cZ3M90zSggnM"
      },
      "source": [
        "torch.cat用于将多个tensor进行拼接操作(应用时必须保证除拼接dim外，其他dim尺寸相同)"
      ]
    },
    {
      "cell_type": "code",
      "metadata": {
        "id": "SF2T4paogRCs",
        "colab": {
          "base_uri": "https://localhost:8080/"
        },
        "outputId": "9b76f495-4bea-424c-fc43-884c783ea31d"
      },
      "source": [
        "x = torch.zeros([2, 1, 3])\n",
        "y = torch.zeros([2, 2, 3])\n",
        "z = torch.zeros([2, 3, 3])\n",
        "w = torch.cat([x, y, z], dim=1)\n",
        "w.shape"
      ],
      "execution_count": null,
      "outputs": [
        {
          "output_type": "execute_result",
          "data": {
            "text/plain": [
              "torch.Size([2, 6, 3])"
            ]
          },
          "metadata": {},
          "execution_count": 4
        }
      ]
    },
    {
      "cell_type": "markdown",
      "metadata": {
        "id": "OnICMoaTjwwK"
      },
      "source": [
        "用torch进行张量的基础运算"
      ]
    },
    {
      "cell_type": "code",
      "metadata": {
        "id": "A7aMS-NohTsW",
        "colab": {
          "base_uri": "https://localhost:8080/"
        },
        "outputId": "bd2497ec-ecbb-4196-cdf9-9036b44c8a64"
      },
      "source": [
        "x = torch.tensor([2,3,4])\n",
        "y = torch.tensor([1,1,1])\n",
        "x-y, x.pow(2),x.sum(), x.float().mean()  # 在计算mean()时，需将数据类型转换为float，否则会报错"
      ],
      "execution_count": 3,
      "outputs": [
        {
          "output_type": "execute_result",
          "data": {
            "text/plain": [
              "(tensor([1, 2, 3]), tensor([ 4,  9, 16]), tensor(9), tensor(3.))"
            ]
          },
          "metadata": {},
          "execution_count": 3
        }
      ]
    },
    {
      "cell_type": "code",
      "metadata": {
        "colab": {
          "base_uri": "https://localhost:8080/"
        },
        "id": "E303T_Asi5Ub",
        "outputId": "987d0f2e-5a64-4b8f-b2ff-4b1643ab046f"
      },
      "source": [
        "x.to('cuda')"
      ],
      "execution_count": 4,
      "outputs": [
        {
          "output_type": "execute_result",
          "data": {
            "text/plain": [
              "tensor([2, 3, 4], device='cuda:0')"
            ]
          },
          "metadata": {},
          "execution_count": 4
        }
      ]
    },
    {
      "cell_type": "code",
      "metadata": {
        "colab": {
          "base_uri": "https://localhost:8080/"
        },
        "id": "nE1Qc39rjlaQ",
        "outputId": "950be887-75a0-4d41-e637-60c653ecb033"
      },
      "source": [
        "torch.cuda.is_available()"
      ],
      "execution_count": 5,
      "outputs": [
        {
          "output_type": "execute_result",
          "data": {
            "text/plain": [
              "True"
            ]
          },
          "metadata": {},
          "execution_count": 5
        }
      ]
    },
    {
      "cell_type": "markdown",
      "metadata": {
        "id": "AMQO1hkLkI5H"
      },
      "source": [
        "利用torch求导"
      ]
    },
    {
      "cell_type": "code",
      "metadata": {
        "colab": {
          "base_uri": "https://localhost:8080/"
        },
        "id": "5gVQtjDukOFC",
        "outputId": "00e20a97-8245-4bad-f081-62216a876467"
      },
      "source": [
        "x = torch.tensor([[1., 0.],[-1., 1.]], requires_grad=True)\n",
        "z = x.pow(2).sum()\n",
        "z.backward()\n",
        "x.grad"
      ],
      "execution_count": 6,
      "outputs": [
        {
          "output_type": "execute_result",
          "data": {
            "text/plain": [
              "tensor([[ 2.,  0.],\n",
              "        [-2.,  2.]])"
            ]
          },
          "metadata": {},
          "execution_count": 6
        }
      ]
    }
  ]
}