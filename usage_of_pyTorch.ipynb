{
  "nbformat": 4,
  "nbformat_minor": 0,
  "metadata": {
    "colab": {
      "name": "usage_of_pyTorch.ipynb",
      "provenance": [],
      "collapsed_sections": [],
      "authorship_tag": "ABX9TyMJY+btHNaTzkZfvEoY5BYY",
      "include_colab_link": true
    },
    "kernelspec": {
      "name": "python3",
      "display_name": "Python 3"
    },
    "language_info": {
      "name": "python"
    }
  },
  "cells": [
    {
      "cell_type": "markdown",
      "metadata": {
        "id": "view-in-github",
        "colab_type": "text"
      },
      "source": [
        "<a href=\"https://colab.research.google.com/github/yeahtigerr/hylee-ml-2021-spring/blob/main/usage_of_pyTorch.ipynb\" target=\"_parent\"><img src=\"https://colab.research.google.com/assets/colab-badge.svg\" alt=\"Open In Colab\"/></a>"
      ]
    },
    {
      "cell_type": "code",
      "metadata": {
        "id": "CLkg7gAZElQ8"
      },
      "source": [
        "import torch\n",
        "import numpy as np"
      ],
      "execution_count": 13,
      "outputs": []
    },
    {
      "cell_type": "markdown",
      "metadata": {
        "id": "DjS0V1ZsBode"
      },
      "source": [
        "生成tensor："
      ]
    },
    {
      "cell_type": "code",
      "metadata": {
        "colab": {
          "base_uri": "https://localhost:8080/"
        },
        "id": "iaXk7_iC_MtL",
        "outputId": "4166b0c8-ffa5-455e-df46-deb4bb00ca62"
      },
      "source": [
        "x = torch.tensor([[1, 2], [3, 4]])\n",
        "y = torch.from_numpy(np.array([[1, 2], [3, 4]]))\n",
        "z1 = torch.zeros([2, 2])\n",
        "z2 = torch.zeros_like(x)  # 生成元素全部为0的张量，形状与输入参数（另一个张量）相同\n",
        "x, y, z1, z2"
      ],
      "execution_count": 2,
      "outputs": [
        {
          "output_type": "execute_result",
          "data": {
            "text/plain": [
              "(tensor([[1, 2],\n",
              "         [3, 4]]), tensor([[1, 2],\n",
              "         [3, 4]]), tensor([[0., 0.],\n",
              "         [0., 0.]]), tensor([[0, 0],\n",
              "         [0, 0]]))"
            ]
          },
          "metadata": {},
          "execution_count": 2
        }
      ]
    },
    {
      "cell_type": "markdown",
      "metadata": {
        "id": "I24YPedRFBNZ"
      },
      "source": [
        "torch.squeeze  将输入张量维度值为1的维度压缩\n",
        "torch.unsqueeze 在输入张量参数维度处增添一个维度为1的维度"
      ]
    },
    {
      "cell_type": "code",
      "metadata": {
        "id": "wRTWaXwzCjjN"
      },
      "source": [
        "x = torch.zeros([1, 2, 2, 3])\n",
        "x.shape"
      ],
      "execution_count": null,
      "outputs": []
    },
    {
      "cell_type": "code",
      "metadata": {
        "colab": {
          "base_uri": "https://localhost:8080/"
        },
        "id": "twmap82XEtfI",
        "outputId": "6c3f21d4-00d8-4225-f169-b281fa6776ad"
      },
      "source": [
        "y = x.squeeze(0)\n",
        "y.shape"
      ],
      "execution_count": 14,
      "outputs": [
        {
          "output_type": "execute_result",
          "data": {
            "text/plain": [
              "torch.Size([2, 2, 3])"
            ]
          },
          "metadata": {},
          "execution_count": 14
        }
      ]
    },
    {
      "cell_type": "code",
      "metadata": {
        "colab": {
          "base_uri": "https://localhost:8080/"
        },
        "id": "PB9STRx3E1M6",
        "outputId": "d2dae0da-635c-42ef-9b8a-3aee9838d655"
      },
      "source": [
        "z = x.unsqueeze(1)\n",
        "z.shape"
      ],
      "execution_count": 15,
      "outputs": [
        {
          "output_type": "execute_result",
          "data": {
            "text/plain": [
              "torch.Size([1, 1, 2, 2, 3])"
            ]
          },
          "metadata": {},
          "execution_count": 15
        }
      ]
    }
  ]
}